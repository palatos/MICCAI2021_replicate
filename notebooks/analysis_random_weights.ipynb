{
 "cells": [
  {
   "cell_type": "code",
   "execution_count": 3,
   "metadata": {},
   "outputs": [],
   "source": [
    "import pickle\n",
    "alldata = pickle.load( open( \"data_rando.p\", \"rb\" ) )"
   ]
  },
  {
   "cell_type": "code",
   "execution_count": 4,
   "metadata": {},
   "outputs": [],
   "source": [
    "%matplotlib inline\n",
    "import matplotlib.pyplot as plt\n",
    "import numpy as np\n"
   ]
  },
  {
   "cell_type": "code",
   "execution_count": 5,
   "metadata": {},
   "outputs": [],
   "source": [
    "import h5py as hd\n",
    "pannuke= hd.File('/mnt/nas2/results/IntermediateResults/Camelyon/pannuke/patches_fix.hdf5', 'r', libver='latest', swmr=True)"
   ]
  },
  {
   "cell_type": "code",
   "execution_count": 6,
   "metadata": {},
   "outputs": [
    {
     "name": "stdout",
     "output_type": "stream",
     "text": [
      "0\n",
      "1\n",
      "2\n",
      "4\n",
      "0\n",
      "1\n",
      "2\n",
      "4\n"
     ]
    }
   ],
   "source": [
    "# loop across types \n",
    "# loop across individual nuclei (with unique values)\n",
    "values_ ={}\n",
    "for type_ in [0,1,2,4]:\n",
    "    print(type_)\n",
    "    values_[type_]=[]\n",
    "    for k in pannuke['pannuke/fold1'].keys():\n",
    "        try:\n",
    "            mask_=np.asarray(pannuke['pannuke/fold1/{}/tumor/center/mask'.format(k)][0,:,:,type_], dtype=np.uint8)\n",
    "            lime_ = heatmap=alldata['fold1_{}'.format(k)][1]\n",
    "            for i in np.unique(mask_):\n",
    "                if i!=0:\n",
    "                    #print(np.unique(lime_[mask_==i])) #we want to keep these values\n",
    "                    values_[type_].append(np.unique(lime_[mask_==i])[0])\n",
    "        except:\n",
    "            pass\n",
    "for type_ in [0,1,2,4]:\n",
    "    print(type_)\n",
    "    #values_[type_]=[]\n",
    "    for k in pannuke['pannuke/fold2'].keys():\n",
    "        try:\n",
    "            mask_=np.asarray(pannuke['pannuke/fold2/{}/tumor/center/mask'.format(k)][0,:,:,type_], dtype=np.uint8)\n",
    "            lime_ = heatmap=alldata['fold2_{}'.format(k)][1]\n",
    "            for i in np.unique(mask_):\n",
    "                if i!=0:\n",
    "                    #print(np.unique(lime_[mask_==i])) #we want to keep these values\n",
    "                    values_[type_].append(np.unique(lime_[mask_==i])[0])\n",
    "        except:\n",
    "            pass"
   ]
  },
  {
   "cell_type": "code",
   "execution_count": 7,
   "metadata": {},
   "outputs": [
    {
     "name": "stdout",
     "output_type": "stream",
     "text": [
      "5\n",
      "5\n"
     ]
    }
   ],
   "source": [
    "type_=5\n",
    "print(type_)\n",
    "values_[type_]=[]\n",
    "for k in pannuke['pannuke/fold1'].keys():\n",
    "    try:\n",
    "        mask_=np.asarray(pannuke['pannuke/fold1/{}/tumor/center/mask'.format(k)][0,:,:,type_], dtype=np.uint8)\n",
    "        lime_ = heatmap=alldata['fold1_{}'.format(k)][1]\n",
    "        for i in np.unique(mask_):\n",
    "            if i!=0:\n",
    "                #print(np.unique(lime_[mask_==i])) #we want to keep these values\n",
    "                #import pdb; pdb.set_trace()\n",
    "                for elem in np.unique(lime_[mask_==i])[:]:\n",
    "                    values_[type_].append(elem)\n",
    "                \n",
    "    except:\n",
    "        pass\n",
    "type_=5\n",
    "print(type_)\n",
    "#values_[type_]=[]\n",
    "for k in pannuke['pannuke/fold2'].keys():\n",
    "    try:\n",
    "        mask_=np.asarray(pannuke['pannuke/fold2/{}/tumor/center/mask'.format(k)][0,:,:,type_], dtype=np.uint8)\n",
    "        lime_ = heatmap=alldata['fold2_{}'.format(k)][1]\n",
    "        for i in np.unique(mask_):\n",
    "            if i!=0:\n",
    "                #print(np.unique(lime_[mask_==i])) #we want to keep these values\n",
    "                for elem in np.unique(lime_[mask_==i])[:]:\n",
    "                    values_[type_].append(elem)\n",
    "    except:\n",
    "        pass"
   ]
  },
  {
   "cell_type": "code",
   "execution_count": 8,
   "metadata": {},
   "outputs": [
    {
     "data": {
      "image/png": "[encoded data removed]",
      "text/plain": [
       "<Figure size 1080x216 with 5 Axes>"
      ]
     },
     "metadata": {
      "needs_background": "light"
     },
     "output_type": "display_data"
    }
   ],
   "source": [
    "plt.rcParams['figure.figsize']=(15,3)\n",
    "nuclei_types=['Neoplastic', 'Inflammatory', 'Connective', 'Epithelial', 'Background']\n",
    "plt.figure()\n",
    "i=1\n",
    "for k in [0,1,2,4,5]:\n",
    "    plt.subplot(1,5,i)\n",
    "    plt.hist(values_[k])\n",
    "    plt.title('{} tissue'.format(nuclei_types[i-1]))\n",
    "    i+=1"
   ]
  },
  {
   "cell_type": "code",
   "execution_count": 9,
   "metadata": {},
   "outputs": [
    {
     "data": {
      "text/plain": [
       "<matplotlib.legend.Legend at 0x7fa021bbeb38>"
      ]
     },
     "execution_count": 9,
     "metadata": {},
     "output_type": "execute_result"
    },
    {
     "data": {
      "image/png": "[encoded data removed]",
      "text/plain": [
       "<Figure size 1080x216 with 1 Axes>"
      ]
     },
     "metadata": {
      "needs_background": "light"
     },
     "output_type": "display_data"
    }
   ],
   "source": [
    "plt.rcParams['figure.figsize']=(15,3)\n",
    "nuclei_types=['Neoplastic', 'Inflammatory', 'Connective', 'Epithelial', 'Background']\n",
    "plt.figure()\n",
    "i=1\n",
    "for k in [0,1]:#,2,4]:#5]:\n",
    "    #plt.subplot(1,5,i)\n",
    "    plt.hist(values_[k][:], bins=50, range=(-0.05, 0.15) )\n",
    "    #plt.title('{} tissue'.format(nuclei_types[i-1]))\n",
    "    i+=1\n",
    "plt.legend(nuclei_types)"
   ]
  },
  {
   "cell_type": "code",
   "execution_count": 10,
   "metadata": {},
   "outputs": [],
   "source": [
    "plt.hist?"
   ]
  },
  {
   "cell_type": "code",
   "execution_count": 11,
   "metadata": {},
   "outputs": [
    {
     "name": "stdout",
     "output_type": "stream",
     "text": [
      "0: Neoplastic cells, 1: Inflammatory, 2: Connective/Soft tissue cells, 3: Dead Cells, 4: Epithelial, 6: Background\n",
      "Nuclei type: 0, average values of weights (std): -5.765260718172456e-07 (8.521087647854128e-07)\n",
      "Nuclei type: 1, average values of weights (std): -3.6397670250538645e-07 (6.0275839300562e-07)\n",
      "Nuclei type: 2, average values of weights (std): -4.6291814013541367e-07 (7.542479880255142e-07)\n",
      "Nuclei type: 4, average values of weights (std): -3.87268997492413e-07 (4.982171963245963e-07)\n",
      "Background, average values of weights (std): -3.3568995961457157e-06 (2.6452376890973486e-06)\n"
     ]
    }
   ],
   "source": [
    "print(\"0: Neoplastic cells, 1: Inflammatory, 2: Connective/Soft tissue cells, 3: Dead Cells, 4: Epithelial, 6: Background\")\n",
    "for k in [0,1,2,4]:\n",
    "    print('Nuclei type: {}, average values of weights (std): {} ({})'.format(k, np.mean(values_[k]), np.std(values_[k])))\n",
    "k=5\n",
    "print('Background, average values of weights (std): {} ({})'.format(np.mean(values_[k]), np.std(values_[k])))"
   ]
  },
  {
   "cell_type": "code",
   "execution_count": 12,
   "metadata": {},
   "outputs": [
    {
     "data": {
      "text/plain": [
       "([<matplotlib.axis.XTick at 0x7fa021b463c8>,\n",
       "  <matplotlib.axis.XTick at 0x7fa021b46630>,\n",
       "  <matplotlib.axis.XTick at 0x7fa021b46320>,\n",
       "  <matplotlib.axis.XTick at 0x7fa021afc0f0>,\n",
       "  <matplotlib.axis.XTick at 0x7fa021afc550>],\n",
       " <a list of 5 Text xticklabel objects>)"
      ]
     },
     "execution_count": 12,
     "metadata": {},
     "output_type": "execute_result"
    },
    {
     "data": {
      "image/png": "[encoded data removed]",
      "text/plain": [
       "<Figure size 360x576 with 1 Axes>"
      ]
     },
     "metadata": {
      "needs_background": "light"
     },
     "output_type": "display_data"
    }
   ],
   "source": [
    "plt.rcParams['figure.figsize']=(5,8)\n",
    "plt.figure()\n",
    "#for k in range(5):\n",
    "plt.boxplot([values_[k] for k in [0,1,2,4,5]], positions=np.arange(5))\n",
    "#plt.title('Nuclei type: {}'.format(k))\n",
    "plt.xticks(np.arange(5), ['neoplastic', 'inflammatory', 'connective', 'epithelial', 'background'], rotation=10)"
   ]
  },
  {
   "cell_type": "code",
   "execution_count": 18,
   "metadata": {},
   "outputs": [],
   "source": [
    "np.save('random_val',values_)"
   ]
  },
  {
   "cell_type": "code",
   "execution_count": 14,
   "metadata": {},
   "outputs": [],
   "source": [
    "# statistical testing of differences"
   ]
  },
  {
   "cell_type": "code",
   "execution_count": 15,
   "metadata": {},
   "outputs": [
    {
     "name": "stdout",
     "output_type": "stream",
     "text": [
      "Statistical testing of differences in mean: t-test for independent samples\n",
      "neoplastic-inflammatory:  -9.962065471675198 2.714946688936878e-23\n",
      "neoplastic-connective -6.815212741731566 9.789291015090781e-12\n",
      "neoplastic-epithelial -2.5750376460126296 0.010035603992025738\n",
      "neoplastic-background 104.18326398278147 0.0\n"
     ]
    }
   ],
   "source": [
    "import scipy.stats\n",
    "print(\"Statistical testing of differences in mean: t-test for independent samples\")\n",
    "print(\"neoplastic-inflammatory: \", scipy.stats.ttest_ind(values_[0], values_[1])[0], scipy.stats.ttest_ind(values_[0], values_[1])[1])\n",
    "print(\"neoplastic-connective\", scipy.stats.ttest_ind(values_[0], values_[2])[0],scipy.stats.ttest_ind(values_[0], values_[2])[1])\n",
    "print(\"neoplastic-epithelial\", scipy.stats.ttest_ind(values_[0], values_[4])[0], scipy.stats.ttest_ind(values_[0], values_[4])[1])\n",
    "print(\"neoplastic-background\", scipy.stats.ttest_ind(values_[0], values_[5])[0], scipy.stats.ttest_ind(values_[0], values_[5])[1])"
   ]
  },
  {
   "cell_type": "code",
   "execution_count": 16,
   "metadata": {},
   "outputs": [
    {
     "name": "stdout",
     "output_type": "stream",
     "text": [
      "Statistical testing of differences in mean: t-test for independent samples, unequal variance\n",
      "neoplastic-inflammatory:  -12.772016977830354 2.1988860010205406e-36\n",
      "neoplastic-connective -7.287522965859978 3.580559590063768e-13\n",
      "neoplastic-epithelial -4.321587378157723 2.876832845561827e-05\n",
      "neoplastic-background 95.44935067615242 0.0\n"
     ]
    }
   ],
   "source": [
    "import scipy.stats\n",
    "print(\"Statistical testing of differences in mean: t-test for independent samples, unequal variance\")\n",
    "print(\"neoplastic-inflammatory: \", scipy.stats.ttest_ind(values_[0], values_[1], equal_var=False)[0], scipy.stats.ttest_ind(values_[0], values_[1], equal_var=False)[1])\n",
    "print(\"neoplastic-connective\", scipy.stats.ttest_ind(values_[0], values_[2], equal_var=False)[0],scipy.stats.ttest_ind(values_[0], values_[2], equal_var=False)[1])\n",
    "print(\"neoplastic-epithelial\", scipy.stats.ttest_ind(values_[0], values_[4], equal_var=False)[0], scipy.stats.ttest_ind(values_[0], values_[4], equal_var=False)[1])\n",
    "print(\"neoplastic-background\", scipy.stats.ttest_ind(values_[0], values_[5], equal_var=False)[0], scipy.stats.ttest_ind(values_[0], values_[5], equal_var=False)[1])"
   ]
  },
  {
   "cell_type": "code",
   "execution_count": 17,
   "metadata": {},
   "outputs": [
    {
     "name": "stdout",
     "output_type": "stream",
     "text": [
      "Statistical testing of differences in mean: non-parametric Kruskal test for independent samples\n",
      "neoplastic-inflammatory:  69.38085428242789 8.117280661396386e-17\n",
      "neoplastic-connective 33.442297565152366 7.340992973445616e-09\n",
      "neoplastic-epithelial 2.083196555482573 0.14892801387063356\n",
      "neoplastic-background 7488.709812924193 0.0\n"
     ]
    },
    {
     "data": {
      "text/plain": [
       "KruskalResult(statistic=69.38085428242789, pvalue=8.117280661396386e-17)"
      ]
     },
     "execution_count": 17,
     "metadata": {},
     "output_type": "execute_result"
    }
   ],
   "source": [
    "import scipy.stats\n",
    "print(\"Statistical testing of differences in mean: non-parametric Kruskal test for independent samples\")\n",
    "print(\"neoplastic-inflammatory: \", scipy.stats.kruskal(values_[0], values_[1])[0], scipy.stats.kruskal(values_[0], values_[1])[1])\n",
    "print(\"neoplastic-connective\", scipy.stats.kruskal(values_[0], values_[2])[0],scipy.stats.kruskal(values_[0], values_[2])[1])\n",
    "print(\"neoplastic-epithelial\", scipy.stats.kruskal(values_[0], values_[4])[0], scipy.stats.kruskal(values_[0], values_[4])[1])\n",
    "print(\"neoplastic-background\", scipy.stats.kruskal(values_[0], values_[5])[0], scipy.stats.kruskal(values_[0], values_[5])[1])\n",
    "\n",
    "scipy.stats.kruskal(values_[0], values_[1])"
   ]
  },
  {
   "cell_type": "code",
   "execution_count": null,
   "metadata": {},
   "outputs": [],
   "source": []
  }
 ],
 "metadata": {
  "kernelspec": {
   "display_name": "Python 2",
   "language": "python",
   "name": "python2"
  },
  "language_info": {
   "codemirror_mode": {
    "name": "ipython",
    "version": 2
   },
   "file_extension": ".py",
   "mimetype": "text/x-python",
   "name": "python",
   "nbconvert_exporter": "python",
   "pygments_lexer": "ipython2",
   "version": "2.7.17"
  }
 },
 "nbformat": 4,
 "nbformat_minor": 2
}
